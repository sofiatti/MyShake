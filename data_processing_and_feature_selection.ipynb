{
 "cells": [
  {
   "cell_type": "markdown",
   "metadata": {},
   "source": [
    "# Data Proprocessing\n",
    "\n",
    "- Making t, x, y, z arrays the same size\n",
    "- Using averaging for reducing number of points for Human Data\n",
    "- Column 'earthquake' with 0 or 1\n",
    "    - Select Human data files before 50s to set at 'no'\n",
    "    - Select other to be 'yes'\n",
    "    \n",
    "    \n",
    "- Divide dataset into training, test and validation set"
   ]
  },
  {
   "cell_type": "markdown",
   "metadata": {},
   "source": [
    "## Checking files\n",
    "\n",
    "- All files have the same sampling rate: 25 Hertz. \n",
    "\n",
    "- Simulated files have `simulated['header']['mag']` \n",
    "\n",
    "- Human files collect data for 1 min before trigger time and that is all noise.\n",
    "\n",
    "For prototyping, I use human files' 1 min pre triggertime as noise. I use "
   ]
  },
  {
   "cell_type": "code",
   "execution_count": 1,
   "metadata": {
    "collapsed": false
   },
   "outputs": [],
   "source": [
    "import glob\n",
    "import json\n",
    "import random\n",
    "import scipy\n",
    "import numpy as np\n",
    "import pandas as pd\n",
    "import seaborn as sns\n",
    "import matplotlib.pyplot as plt\n",
    "from tsfresh import extract_features, select_features\n",
    "from tsfresh.utilities.dataframe_functions import impute\n",
    "\n",
    "%matplotlib inline\n",
    "plt.style.use('ggplot')\n",
    "random.seed(3)"
   ]
  },
  {
   "cell_type": "code",
   "execution_count": 2,
   "metadata": {
    "collapsed": false
   },
   "outputs": [],
   "source": [
    "table_dir = './MyShake_Training_Data/EQ/shake_table/'\n",
    "table_files = glob.glob(table_dir + '*')\n",
    "random.shuffle(table_files)\n",
    "\n",
    "\n",
    "simulated_dir = './MyShake_Training_Data/EQ/simulated/'\n",
    "simulated_files = glob.glob(simulated_dir + '*')\n",
    "random.shuffle(simulated_files)\n",
    "\n",
    "human_dir = './MyShake_Training_Data/Human/'\n",
    "human_files = glob.glob(human_dir + '*')\n",
    "random.shuffle(human_files)"
   ]
  },
  {
   "cell_type": "code",
   "execution_count": 3,
   "metadata": {
    "collapsed": false
   },
   "outputs": [],
   "source": [
    "def all_data(file):\n",
    "    'Get dictionary from JSON file'\n",
    "    with open(file, encoding='utf-8') as f:\n",
    "        data=[json.loads(line) for line in f]\n",
    "        data=data[0]\n",
    "    return data\n",
    "\n",
    "def get_data(data):\n",
    "    '''\n",
    "    Yuansi Chen's helper function to get the timestamp and 3-component acceleration data with small modifications. \n",
    "    '''\n",
    "    # read in x, y, z data\n",
    "    x = data['data']['x']\n",
    "    y = data['data']['y']\n",
    "    z = data['data']['z']\n",
    "    \n",
    "    size = min(len(x), len(y), len(z))\n",
    "    x = x[:size]\n",
    "    y = y[:size]\n",
    "    z = z[:size]\n",
    "\n",
    "    # calculate the timestamp\n",
    "    # get the start time\n",
    "    t0 = data['header']['starttime']\n",
    "    npoints = len(x)\n",
    "    sampling_rate = data['header']['sampling_rate']\n",
    "    \n",
    "    # get the end time \n",
    "    t1 = t0 + npoints / sampling_rate\n",
    "    \n",
    "    # form the timestamp\n",
    "    t = np.arange(t0, t1, 1/sampling_rate)\n",
    "    if len(t)>len(x):\n",
    "        t = t[:len(x)] # Added this line to avoid rounding errors from generating extra point.\n",
    "    elif len(t) < len(x):\n",
    "        x = x[:len(t)]\n",
    "        y = y[:len(t)]\n",
    "        z = z[:len(t)]\n",
    "    return t, x, y, z\n",
    "\n",
    "\n",
    "def get_df(file, files_dir):\n",
    "    'Function to transform file into pandas dataFrame'\n",
    "    data = all_data(file)\n",
    "    t, x, y, z = get_data(data)\n",
    "    df = pd.DataFrame()\n",
    "    df['t'] = t\n",
    "    df['x'] = x\n",
    "    df['y'] = y\n",
    "    df['z'] = z\n",
    "    if files_dir == human_dir:\n",
    "        return df[:25*50] # If human, only get noise\n",
    "    else:\n",
    "        return df"
   ]
  },
  {
   "cell_type": "code",
   "execution_count": 4,
   "metadata": {
    "collapsed": true
   },
   "outputs": [],
   "source": [
    "mags = []\n",
    "for file in simulated_files:\n",
    "    simulated = all_data(file)\n",
    "    mags.append(simulated['header']['mag'])\n",
    "\n"
   ]
  },
  {
   "cell_type": "code",
   "execution_count": 5,
   "metadata": {
    "collapsed": false
   },
   "outputs": [
    {
     "name": "stdout",
     "output_type": "stream",
     "text": [
      "DescribeResult(nobs=992, minmax=(4.9000000953674316, 9.0), mean=6.2171370699521038, variance=1.2724810546521585, skewness=1.1529370012961335, kurtosis=0.6726036880460131)\n"
     ]
    }
   ],
   "source": [
    "mags = np.asarray(mags)\n",
    "print(scipy.stats.describe(mags))"
   ]
  },
  {
   "cell_type": "code",
   "execution_count": 6,
   "metadata": {
    "collapsed": false
   },
   "outputs": [],
   "source": [
    "triggertime = []\n",
    "for file in human_files[:100]:\n",
    "    human = all_data(file)\n",
    "    triggertime.append(human['header']['triggertime'])\n"
   ]
  },
  {
   "cell_type": "code",
   "execution_count": 7,
   "metadata": {
    "collapsed": false
   },
   "outputs": [
    {
     "name": "stdout",
     "output_type": "stream",
     "text": [
      "DescribeResult(nobs=100, minmax=(1414983843.329, 1432672243.448), mean=1423123618.7858701, variance=24325345571422.465, skewness=0.23891774377811018, kurtosis=-0.9974154447289649)\n"
     ]
    }
   ],
   "source": [
    "triggertime = np.asarray(triggertime)\n",
    "print(scipy.stats.describe(triggertime))"
   ]
  },
  {
   "cell_type": "markdown",
   "metadata": {},
   "source": [
    "# Getting 'only noise' files"
   ]
  },
  {
   "cell_type": "code",
   "execution_count": 8,
   "metadata": {
    "collapsed": false
   },
   "outputs": [],
   "source": [
    "def get_df_many_files(n_files, files, files_dir):\n",
    "    file_id = 0\n",
    "    'Get dataFrame with n samples from directory'\n",
    "    df_all = pd.DataFrame()\n",
    "    for file in files[:n_files]:\n",
    "        df = get_df(file, files_dir)\n",
    "        df['id'] = file_id\n",
    "        df_all = df_all.append(df, ignore_index=True)\n",
    "        file_id += 1\n",
    "    return df_all\n",
    "\n",
    "#    data = pandas.read_excel(infile)\n",
    "#    appended_data.append(data) ## store dataframes in list\n",
    "#appended_data = pd.concat(appended_data, axis=1) #"
   ]
  },
  {
   "cell_type": "markdown",
   "metadata": {},
   "source": [
    "# Selecting Features for Model Training\n",
    "\n",
    "I created a dataframe for each of the three categories: human data, shake table data and simulated data. Each dataframe was made from 3 randomly selected files. I then used tsfresh to find the most relevant features to train the classification models for the time series."
   ]
  },
  {
   "cell_type": "code",
   "execution_count": 9,
   "metadata": {
    "collapsed": false
   },
   "outputs": [],
   "source": [
    "df_human = get_df_many_files(10, human_files, human_dir)\n",
    "#df_table = get_df_many_files(10, table_files, table_dir)\n",
    "df_simulated = get_df_many_files(10, simulated_files, simulated_dir)"
   ]
  },
  {
   "cell_type": "code",
   "execution_count": 14,
   "metadata": {
    "collapsed": false
   },
   "outputs": [
    {
     "data": {
      "text/html": [
       "<div>\n",
       "<table border=\"1\" class=\"dataframe\">\n",
       "  <thead>\n",
       "    <tr style=\"text-align: right;\">\n",
       "      <th></th>\n",
       "      <th>t</th>\n",
       "      <th>x</th>\n",
       "      <th>y</th>\n",
       "      <th>z</th>\n",
       "      <th>id</th>\n",
       "    </tr>\n",
       "  </thead>\n",
       "  <tbody>\n",
       "    <tr>\n",
       "      <th>count</th>\n",
       "      <td>3.744200e+04</td>\n",
       "      <td>37442.000000</td>\n",
       "      <td>37442.000000</td>\n",
       "      <td>37442.000000</td>\n",
       "      <td>37442.000000</td>\n",
       "    </tr>\n",
       "    <tr>\n",
       "      <th>mean</th>\n",
       "      <td>1.334586e+09</td>\n",
       "      <td>0.002604</td>\n",
       "      <td>-0.001166</td>\n",
       "      <td>1.002768</td>\n",
       "      <td>4.929277</td>\n",
       "    </tr>\n",
       "    <tr>\n",
       "      <th>std</th>\n",
       "      <td>1.915045e+08</td>\n",
       "      <td>0.020983</td>\n",
       "      <td>0.021839</td>\n",
       "      <td>0.021952</td>\n",
       "      <td>2.939308</td>\n",
       "    </tr>\n",
       "    <tr>\n",
       "      <th>min</th>\n",
       "      <td>0.000000e+00</td>\n",
       "      <td>-0.598841</td>\n",
       "      <td>-0.413827</td>\n",
       "      <td>0.803422</td>\n",
       "      <td>0.000000</td>\n",
       "    </tr>\n",
       "    <tr>\n",
       "      <th>25%</th>\n",
       "      <td>1.299855e+09</td>\n",
       "      <td>-0.004530</td>\n",
       "      <td>-0.008807</td>\n",
       "      <td>0.988565</td>\n",
       "      <td>3.000000</td>\n",
       "    </tr>\n",
       "    <tr>\n",
       "      <th>50%</th>\n",
       "      <td>1.396066e+09</td>\n",
       "      <td>0.000056</td>\n",
       "      <td>-0.000520</td>\n",
       "      <td>1.001147</td>\n",
       "      <td>5.000000</td>\n",
       "    </tr>\n",
       "    <tr>\n",
       "      <th>75%</th>\n",
       "      <td>1.408876e+09</td>\n",
       "      <td>0.006430</td>\n",
       "      <td>0.006492</td>\n",
       "      <td>1.018476</td>\n",
       "      <td>8.000000</td>\n",
       "    </tr>\n",
       "    <tr>\n",
       "      <th>max</th>\n",
       "      <td>1.408876e+09</td>\n",
       "      <td>0.588449</td>\n",
       "      <td>0.372217</td>\n",
       "      <td>1.225569</td>\n",
       "      <td>9.000000</td>\n",
       "    </tr>\n",
       "  </tbody>\n",
       "</table>\n",
       "</div>"
      ],
      "text/plain": [
       "                  t             x             y             z            id\n",
       "count  3.744200e+04  37442.000000  37442.000000  37442.000000  37442.000000\n",
       "mean   1.334586e+09      0.002604     -0.001166      1.002768      4.929277\n",
       "std    1.915045e+08      0.020983      0.021839      0.021952      2.939308\n",
       "min    0.000000e+00     -0.598841     -0.413827      0.803422      0.000000\n",
       "25%    1.299855e+09     -0.004530     -0.008807      0.988565      3.000000\n",
       "50%    1.396066e+09      0.000056     -0.000520      1.001147      5.000000\n",
       "75%    1.408876e+09      0.006430      0.006492      1.018476      8.000000\n",
       "max    1.408876e+09      0.588449      0.372217      1.225569      9.000000"
      ]
     },
     "execution_count": 14,
     "metadata": {},
     "output_type": "execute_result"
    }
   ],
   "source": [
    "df_simulated.describe()"
   ]
  },
  {
   "cell_type": "code",
   "execution_count": 15,
   "metadata": {
    "collapsed": false
   },
   "outputs": [],
   "source": [
    "df_human['id'] = df_human['id'] + 10"
   ]
  },
  {
   "cell_type": "code",
   "execution_count": 17,
   "metadata": {
    "collapsed": false
   },
   "outputs": [
    {
     "data": {
      "text/html": [
       "<div>\n",
       "<table border=\"1\" class=\"dataframe\">\n",
       "  <thead>\n",
       "    <tr style=\"text-align: right;\">\n",
       "      <th></th>\n",
       "      <th>t</th>\n",
       "      <th>x</th>\n",
       "      <th>y</th>\n",
       "      <th>z</th>\n",
       "      <th>id</th>\n",
       "    </tr>\n",
       "  </thead>\n",
       "  <tbody>\n",
       "    <tr>\n",
       "      <th>count</th>\n",
       "      <td>1.250000e+04</td>\n",
       "      <td>12500.000000</td>\n",
       "      <td>12500.000000</td>\n",
       "      <td>12500.000000</td>\n",
       "      <td>12500.000000</td>\n",
       "    </tr>\n",
       "    <tr>\n",
       "      <th>mean</th>\n",
       "      <td>1.423227e+09</td>\n",
       "      <td>-0.002917</td>\n",
       "      <td>0.026782</td>\n",
       "      <td>-0.976832</td>\n",
       "      <td>14.500000</td>\n",
       "    </tr>\n",
       "    <tr>\n",
       "      <th>std</th>\n",
       "      <td>4.607726e+06</td>\n",
       "      <td>0.026089</td>\n",
       "      <td>0.041163</td>\n",
       "      <td>0.035486</td>\n",
       "      <td>2.872396</td>\n",
       "    </tr>\n",
       "    <tr>\n",
       "      <th>min</th>\n",
       "      <td>1.415673e+09</td>\n",
       "      <td>-0.040261</td>\n",
       "      <td>-0.048750</td>\n",
       "      <td>-1.061747</td>\n",
       "      <td>10.000000</td>\n",
       "    </tr>\n",
       "    <tr>\n",
       "      <th>25%</th>\n",
       "      <td>1.420380e+09</td>\n",
       "      <td>-0.022873</td>\n",
       "      <td>0.002707</td>\n",
       "      <td>-0.999346</td>\n",
       "      <td>12.000000</td>\n",
       "    </tr>\n",
       "    <tr>\n",
       "      <th>50%</th>\n",
       "      <td>1.422679e+09</td>\n",
       "      <td>-0.008086</td>\n",
       "      <td>0.009575</td>\n",
       "      <td>-0.967757</td>\n",
       "      <td>14.500000</td>\n",
       "    </tr>\n",
       "    <tr>\n",
       "      <th>75%</th>\n",
       "      <td>1.427575e+09</td>\n",
       "      <td>0.010923</td>\n",
       "      <td>0.035878</td>\n",
       "      <td>-0.961107</td>\n",
       "      <td>17.000000</td>\n",
       "    </tr>\n",
       "    <tr>\n",
       "      <th>max</th>\n",
       "      <td>1.431744e+09</td>\n",
       "      <td>0.063256</td>\n",
       "      <td>0.146266</td>\n",
       "      <td>-0.922431</td>\n",
       "      <td>19.000000</td>\n",
       "    </tr>\n",
       "  </tbody>\n",
       "</table>\n",
       "</div>"
      ],
      "text/plain": [
       "                  t             x             y             z            id\n",
       "count  1.250000e+04  12500.000000  12500.000000  12500.000000  12500.000000\n",
       "mean   1.423227e+09     -0.002917      0.026782     -0.976832     14.500000\n",
       "std    4.607726e+06      0.026089      0.041163      0.035486      2.872396\n",
       "min    1.415673e+09     -0.040261     -0.048750     -1.061747     10.000000\n",
       "25%    1.420380e+09     -0.022873      0.002707     -0.999346     12.000000\n",
       "50%    1.422679e+09     -0.008086      0.009575     -0.967757     14.500000\n",
       "75%    1.427575e+09      0.010923      0.035878     -0.961107     17.000000\n",
       "max    1.431744e+09      0.063256      0.146266     -0.922431     19.000000"
      ]
     },
     "execution_count": 17,
     "metadata": {},
     "output_type": "execute_result"
    }
   ],
   "source": [
    "df_human.describe()"
   ]
  },
  {
   "cell_type": "code",
   "execution_count": 29,
   "metadata": {
    "collapsed": true
   },
   "outputs": [],
   "source": [
    "df_training = df_simulated.append(df_human, ignore_index=True)"
   ]
  },
  {
   "cell_type": "code",
   "execution_count": 31,
   "metadata": {
    "collapsed": false
   },
   "outputs": [
    {
     "data": {
      "text/html": [
       "<div>\n",
       "<table border=\"1\" class=\"dataframe\">\n",
       "  <thead>\n",
       "    <tr style=\"text-align: right;\">\n",
       "      <th></th>\n",
       "      <th>t</th>\n",
       "      <th>x</th>\n",
       "      <th>y</th>\n",
       "      <th>z</th>\n",
       "      <th>id</th>\n",
       "    </tr>\n",
       "  </thead>\n",
       "  <tbody>\n",
       "    <tr>\n",
       "      <th>count</th>\n",
       "      <td>4.994200e+04</td>\n",
       "      <td>49942.000000</td>\n",
       "      <td>49942.000000</td>\n",
       "      <td>49942.000000</td>\n",
       "      <td>49942.000000</td>\n",
       "    </tr>\n",
       "    <tr>\n",
       "      <th>mean</th>\n",
       "      <td>1.356772e+09</td>\n",
       "      <td>0.001222</td>\n",
       "      <td>0.005829</td>\n",
       "      <td>0.507293</td>\n",
       "      <td>7.324737</td>\n",
       "    </tr>\n",
       "    <tr>\n",
       "      <th>std</th>\n",
       "      <td>1.702186e+08</td>\n",
       "      <td>0.022498</td>\n",
       "      <td>0.030466</td>\n",
       "      <td>0.857926</td>\n",
       "      <td>5.072517</td>\n",
       "    </tr>\n",
       "    <tr>\n",
       "      <th>min</th>\n",
       "      <td>0.000000e+00</td>\n",
       "      <td>-0.598841</td>\n",
       "      <td>-0.413827</td>\n",
       "      <td>-1.061747</td>\n",
       "      <td>0.000000</td>\n",
       "    </tr>\n",
       "    <tr>\n",
       "      <th>25%</th>\n",
       "      <td>1.302219e+09</td>\n",
       "      <td>-0.006756</td>\n",
       "      <td>-0.006422</td>\n",
       "      <td>-0.924329</td>\n",
       "      <td>4.000000</td>\n",
       "    </tr>\n",
       "    <tr>\n",
       "      <th>50%</th>\n",
       "      <td>1.396066e+09</td>\n",
       "      <td>-0.001082</td>\n",
       "      <td>0.002088</td>\n",
       "      <td>0.994004</td>\n",
       "      <td>6.000000</td>\n",
       "    </tr>\n",
       "    <tr>\n",
       "      <th>75%</th>\n",
       "      <td>1.415673e+09</td>\n",
       "      <td>0.007169</td>\n",
       "      <td>0.009643</td>\n",
       "      <td>1.009379</td>\n",
       "      <td>10.000000</td>\n",
       "    </tr>\n",
       "    <tr>\n",
       "      <th>max</th>\n",
       "      <td>1.431744e+09</td>\n",
       "      <td>0.588449</td>\n",
       "      <td>0.372217</td>\n",
       "      <td>1.225569</td>\n",
       "      <td>19.000000</td>\n",
       "    </tr>\n",
       "  </tbody>\n",
       "</table>\n",
       "</div>"
      ],
      "text/plain": [
       "                  t             x             y             z            id\n",
       "count  4.994200e+04  49942.000000  49942.000000  49942.000000  49942.000000\n",
       "mean   1.356772e+09      0.001222      0.005829      0.507293      7.324737\n",
       "std    1.702186e+08      0.022498      0.030466      0.857926      5.072517\n",
       "min    0.000000e+00     -0.598841     -0.413827     -1.061747      0.000000\n",
       "25%    1.302219e+09     -0.006756     -0.006422     -0.924329      4.000000\n",
       "50%    1.396066e+09     -0.001082      0.002088      0.994004      6.000000\n",
       "75%    1.415673e+09      0.007169      0.009643      1.009379     10.000000\n",
       "max    1.431744e+09      0.588449      0.372217      1.225569     19.000000"
      ]
     },
     "execution_count": 31,
     "metadata": {},
     "output_type": "execute_result"
    }
   ],
   "source": [
    "df_training.describe()"
   ]
  },
  {
   "cell_type": "code",
   "execution_count": 32,
   "metadata": {
    "collapsed": false
   },
   "outputs": [
    {
     "name": "stderr",
     "output_type": "stream",
     "text": [
      "/Users/sofiatti/anaconda3/lib/python3.5/site-packages/pandas/computation/expressions.py:181: UserWarning: evaluating in Python space because the '*' operator is not supported by numexpr for the bool dtype, use '&' instead\n",
      "  unsupported[op_str]))\n",
      "/Users/sofiatti/anaconda3/lib/python3.5/site-packages/pandas/computation/expressions.py:181: UserWarning: evaluating in Python space because the '*' operator is not supported by numexpr for the bool dtype, use '&' instead\n",
      "  unsupported[op_str]))\n",
      "/Users/sofiatti/anaconda3/lib/python3.5/site-packages/pandas/computation/expressions.py:181: UserWarning: evaluating in Python space because the '*' operator is not supported by numexpr for the bool dtype, use '&' instead\n",
      "  unsupported[op_str]))\n",
      "/Users/sofiatti/anaconda3/lib/python3.5/site-packages/pandas/computation/expressions.py:181: UserWarning: evaluating in Python space because the '*' operator is not supported by numexpr for the bool dtype, use '&' instead\n",
      "  unsupported[op_str]))\n",
      "/Users/sofiatti/anaconda3/lib/python3.5/site-packages/pandas/computation/expressions.py:181: UserWarning: evaluating in Python space because the '*' operator is not supported by numexpr for the bool dtype, use '&' instead\n",
      "  unsupported[op_str]))\n"
     ]
    }
   ],
   "source": [
    "X = extract_features(df_training, column_id='id', column_sort='t')"
   ]
  },
  {
   "cell_type": "code",
   "execution_count": 27,
   "metadata": {
    "collapsed": false
   },
   "outputs": [
    {
     "name": "stderr",
     "output_type": "stream",
     "text": [
      "/Users/sofiatti/anaconda3/lib/python3.5/site-packages/ipykernel/__main__.py:4: SettingWithCopyWarning: \n",
      "A value is trying to be set on a copy of a slice from a DataFrame\n",
      "\n",
      "See the caveats in the documentation: http://pandas.pydata.org/pandas-docs/stable/indexing.html#indexing-view-versus-copy\n"
     ]
    }
   ],
   "source": [
    "Y = pd.DataFrame()\n",
    "Y['id'] = np.arange(20)\n",
    "Y['y'] = np.ones(20)\n",
    "Y['y'][10:] = 0"
   ]
  },
  {
   "cell_type": "code",
   "execution_count": 49,
   "metadata": {
    "collapsed": false
   },
   "outputs": [
    {
     "name": "stdout",
     "output_type": "stream",
     "text": [
      "[ 1.  1.  1.  1.  1.  1.  1.  1.  1.  1.  0.  0.  0.  0.  0.  0.  0.  0.\n",
      "  0.  0.]\n"
     ]
    }
   ],
   "source": [
    "y = np.ones(20)\n",
    "y[10:] = 0\n",
    "print (y)"
   ]
  },
  {
   "cell_type": "code",
   "execution_count": 51,
   "metadata": {
    "collapsed": false
   },
   "outputs": [
    {
     "name": "stderr",
     "output_type": "stream",
     "text": [
      "[test_feature_significance] Feature z__mean_abs_change_quantiles__qh_0.2__ql_0.8 is constant\n",
      "[test_feature_significance] Feature y__mean_abs_change_quantiles__qh_0.6__ql_0.8 is constant\n",
      "[test_feature_significance] Feature z__has_duplicate_min is constant\n",
      "[test_feature_significance] Feature z__mean_abs_change_quantiles__qh_0.6__ql_0.6 is constant\n",
      "[test_feature_significance] Feature y__has_duplicate_max is constant\n",
      "[test_feature_significance] Feature x__value_count__value_nan is constant\n",
      "[test_feature_significance] Feature y__mean_abs_change_quantiles__qh_0.2__ql_0.6 is constant\n",
      "[test_feature_significance] Feature z__symmetry_looking__r_0.05 is constant\n",
      "[test_feature_significance] Feature y__mean_abs_change_quantiles__qh_0.6__ql_0.6 is constant\n",
      "[test_feature_significance] Feature x__symmetry_looking__r_0.4 is constant\n",
      "[test_feature_significance] Feature y__symmetry_looking__r_0.8500000000000001 is constant\n",
      "[test_feature_significance] Feature x__large_number_of_peaks__n_3 is constant\n",
      "[test_feature_significance] Feature x__symmetry_looking__r_0.75 is constant\n",
      "[test_feature_significance] Feature x__symmetry_looking__r_0.9500000000000001 is constant\n",
      "[test_feature_significance] Feature y__symmetry_looking__r_0.15000000000000002 is constant\n",
      "[test_feature_significance] Feature y__mean_abs_change_quantiles__qh_0.4__ql_0.8 is constant\n",
      "[test_feature_significance] Feature y__symmetry_looking__r_0.9500000000000001 is constant\n",
      "[test_feature_significance] Feature x__symmetry_looking__r_0.25 is constant\n",
      "[test_feature_significance] Feature z__symmetry_looking__r_0.5 is constant\n",
      "[test_feature_significance] Feature x__symmetry_looking__r_0.55 is constant\n",
      "[test_feature_significance] Feature x__value_count__value_-inf is constant\n",
      "[test_feature_significance] Feature z__large_number_of_peaks__n_1 is constant\n",
      "[test_feature_significance] Feature z__value_count__value_inf is constant\n",
      "[test_feature_significance] Feature x__large_standard_deviation__r_0.4 is constant\n",
      "[test_feature_significance] Feature y__large_standard_deviation__r_0.0 is constant\n",
      "[test_feature_significance] Feature y__value_count__value_inf is constant\n",
      "[test_feature_significance] Feature x__value_count__value_inf is constant\n",
      "[test_feature_significance] Feature z__mean_abs_change_quantiles__qh_0.2__ql_0.2 is constant\n",
      "[test_feature_significance] Feature x__large_standard_deviation__r_0.25 is constant\n",
      "[test_feature_significance] Feature x__mean_abs_change_quantiles__qh_0.2__ql_0.8 is constant\n",
      "[test_feature_significance] Feature x__symmetry_looking__r_0.45 is constant\n",
      "[test_feature_significance] Feature x__large_standard_deviation__r_0.35000000000000003 is constant\n",
      "[test_feature_significance] Feature x__has_duplicate_max is constant\n",
      "[test_feature_significance] Feature y__large_number_of_peaks__n_5 is constant\n",
      "[test_feature_significance] Feature z__symmetry_looking__r_0.9 is constant\n",
      "[test_feature_significance] Feature y__symmetry_looking__r_0.8 is constant\n",
      "[test_feature_significance] Feature y__large_standard_deviation__r_0.45 is constant\n",
      "[test_feature_significance] Feature x__large_standard_deviation__r_0.2 is constant\n",
      "[test_feature_significance] Feature y__large_standard_deviation__r_0.30000000000000004 is constant\n",
      "[test_feature_significance] Feature y__symmetry_looking__r_0.25 is constant\n",
      "[test_feature_significance] Feature x__symmetry_looking__r_0.8 is constant\n",
      "[test_feature_significance] Feature y__symmetry_looking__r_0.35000000000000003 is constant\n",
      "[test_feature_significance] Feature z__large_number_of_peaks__n_5 is constant\n",
      "[test_feature_significance] Feature y__has_duplicate_min is constant\n",
      "[test_feature_significance] Feature x__symmetry_looking__r_0.65 is constant\n",
      "[test_feature_significance] Feature x__value_count__value_1 is constant\n",
      "[test_feature_significance] Feature z__large_standard_deviation__r_0.4 is constant\n",
      "[test_feature_significance] Feature x__has_duplicate_min is constant\n",
      "[test_feature_significance] Feature y__large_standard_deviation__r_0.35000000000000003 is constant\n",
      "[test_feature_significance] Feature x__mean_abs_change_quantiles__qh_0.4__ql_0.8 is constant\n",
      "[test_feature_significance] Feature x__mean_abs_change_quantiles__qh_0.4__ql_0.4 is constant\n",
      "[test_feature_significance] Feature z__symmetry_looking__r_0.25 is constant\n",
      "[test_feature_significance] Feature x__symmetry_looking__r_0.5 is constant\n",
      "[test_feature_significance] Feature y__mean_abs_change_quantiles__qh_0.4__ql_0.6 is constant\n",
      "[test_feature_significance] Feature z__mean_abs_change_quantiles__qh_0.4__ql_0.8 is constant\n",
      "[test_feature_significance] Feature y__symmetry_looking__r_0.6000000000000001 is constant\n",
      "[test_feature_significance] Feature x__mean_abs_change_quantiles__qh_0.4__ql_0.6 is constant\n",
      "[test_feature_significance] Feature y__symmetry_looking__r_0.45 is constant\n",
      "[test_feature_significance] Feature z__symmetry_looking__r_0.0 is constant\n",
      "[test_feature_significance] Feature y__symmetry_looking__r_0.30000000000000004 is constant\n",
      "[test_feature_significance] Feature y__symmetry_looking__r_0.05 is constant\n",
      "[test_feature_significance] Feature x__large_standard_deviation__r_0.45 is constant\n",
      "[test_feature_significance] Feature z__symmetry_looking__r_0.30000000000000004 is constant\n",
      "[test_feature_significance] Feature z__symmetry_looking__r_0.8500000000000001 is constant\n",
      "[test_feature_significance] Feature y__symmetry_looking__r_0.0 is constant\n",
      "[target_binary_feature_binary_test] A binary feature should have only values 1 and 0 (incl. True and False). Instead found {0.99999999999999989, 1.0} in feature ''z__autocorrelation__lag_0''.\n",
      "[test_feature_significance] Feature x__mean_abs_change_quantiles__qh_0.6__ql_0.8 is constant\n",
      "[test_feature_significance] Feature z__symmetry_looking__r_0.35000000000000003 is constant\n",
      "[test_feature_significance] Feature x__large_standard_deviation__r_0.30000000000000004 is constant\n",
      "[test_feature_significance] Feature x__symmetry_looking__r_0.0 is constant\n",
      "[test_feature_significance] Feature x__symmetry_looking__r_0.35000000000000003 is constant\n",
      "[test_feature_significance] Feature z__large_standard_deviation__r_0.45 is constant\n",
      "[test_feature_significance] Feature x__symmetry_looking__r_0.8500000000000001 is constant\n",
      "[test_feature_significance] Feature z__mean_abs_change_quantiles__qh_0.2__ql_0.6 is constant\n",
      "[test_feature_significance] Feature z__large_standard_deviation__r_0.25 is constant\n",
      "[test_feature_significance] Feature x__mean_abs_change_quantiles__qh_0.8__ql_0.8 is constant\n",
      "[test_feature_significance] Feature x__mean_abs_change_quantiles__qh_0.2__ql_0.4 is constant\n",
      "[test_feature_significance] Feature x__large_number_of_peaks__n_1 is constant\n",
      "[test_feature_significance] Feature x__symmetry_looking__r_0.1 is constant\n",
      "[test_feature_significance] Feature x__mean_abs_change_quantiles__qh_0.2__ql_0.6 is constant\n",
      "[test_feature_significance] Feature z__symmetry_looking__r_0.4 is constant\n",
      "[test_feature_significance] Feature z__value_count__value_-inf is constant\n",
      "[test_feature_significance] Feature z__symmetry_looking__r_0.6000000000000001 is constant\n",
      "[test_feature_significance] Feature z__symmetry_looking__r_0.7000000000000001 is constant\n",
      "[test_feature_significance] Feature z__symmetry_looking__r_0.65 is constant\n",
      "[test_feature_significance] Feature y__large_number_of_peaks__n_1 is constant\n",
      "[test_feature_significance] Feature x__large_number_of_peaks__n_5 is constant\n",
      "[test_feature_significance] Feature z__large_number_of_peaks__n_3 is constant\n",
      "[test_feature_significance] Feature z__mean_abs_change_quantiles__qh_0.2__ql_0.4 is constant\n",
      "[test_feature_significance] Feature x__symmetry_looking__r_0.6000000000000001 is constant\n",
      "[test_feature_significance] Feature x__symmetry_looking__r_0.30000000000000004 is constant\n",
      "[test_feature_significance] Feature z__symmetry_looking__r_0.45 is constant\n",
      "[test_feature_significance] Feature z__symmetry_looking__r_0.8 is constant\n",
      "[test_feature_significance] Feature z__variance_larger_than_standard_deviation is constant\n",
      "[test_feature_significance] Feature z__large_standard_deviation__r_0.30000000000000004 is constant\n",
      "[test_feature_significance] Feature y__large_standard_deviation__r_0.25 is constant\n",
      "[test_feature_significance] Feature z__value_count__value_nan is constant\n",
      "[test_feature_significance] Feature x__symmetry_looking__r_0.2 is constant\n",
      "[test_feature_significance] Feature z__large_standard_deviation__r_0.35000000000000003 is constant\n",
      "[test_feature_significance] Feature y__mean_abs_change_quantiles__qh_0.4__ql_0.4 is constant\n",
      "[test_feature_significance] Feature y__symmetry_looking__r_0.2 is constant\n",
      "[test_feature_significance] Feature z__value_count__value_0 is constant\n",
      "[test_feature_significance] Feature y__value_count__value_1 is constant\n",
      "[test_feature_significance] Feature y__large_standard_deviation__r_0.2 is constant\n",
      "[test_feature_significance] Feature z__large_standard_deviation__r_0.0 is constant\n",
      "[test_feature_significance] Feature x__symmetry_looking__r_0.15000000000000002 is constant\n",
      "[test_feature_significance] Feature y__mean_abs_change_quantiles__qh_0.2__ql_0.4 is constant\n",
      "[test_feature_significance] Feature y__symmetry_looking__r_0.5 is constant\n",
      "[test_feature_significance] Feature x__value_count__value_0 is constant\n",
      "[test_feature_significance] Feature z__mean_abs_change_quantiles__qh_0.8__ql_0.8 is constant\n",
      "[test_feature_significance] Feature z__value_count__value_1 is constant\n",
      "[test_feature_significance] Feature x__variance_larger_than_standard_deviation is constant\n",
      "[test_feature_significance] Feature x__symmetry_looking__r_0.05 is constant\n",
      "[test_feature_significance] Feature x__mean_abs_change_quantiles__qh_0.6__ql_0.6 is constant\n",
      "[test_feature_significance] Feature y__mean_abs_change_quantiles__qh_0.2__ql_0.2 is constant\n",
      "[test_feature_significance] Feature y__large_standard_deviation__r_0.4 is constant\n",
      "[test_feature_significance] Feature z__mean_abs_change_quantiles__qh_0.4__ql_0.4 is constant\n",
      "[test_feature_significance] Feature y__symmetry_looking__r_0.9 is constant\n",
      "[test_feature_significance] Feature z__symmetry_looking__r_0.1 is constant\n",
      "[test_feature_significance] Feature y__value_count__value_-inf is constant\n",
      "[test_feature_significance] Feature z__large_standard_deviation__r_0.2 is constant\n",
      "[test_feature_significance] Feature z__symmetry_looking__r_0.75 is constant\n",
      "[test_feature_significance] Feature y__variance_larger_than_standard_deviation is constant\n",
      "[test_feature_significance] Feature z__has_duplicate_max is constant\n",
      "[test_feature_significance] Feature z__mean_abs_change_quantiles__qh_0.6__ql_0.8 is constant\n",
      "[target_binary_feature_binary_test] A binary feature should have only values 1 and 0 (incl. True and False). Instead found {0.0, 39.0} in feature ''y__value_count__value_0''.\n",
      "[test_feature_significance] Feature x__mean_abs_change_quantiles__qh_0.2__ql_0.2 is constant\n",
      "[test_feature_significance] Feature y__symmetry_looking__r_0.75 is constant\n",
      "[test_feature_significance] Feature y__mean_abs_change_quantiles__qh_0.8__ql_0.8 is constant\n",
      "[test_feature_significance] Feature y__symmetry_looking__r_0.4 is constant\n",
      "[test_feature_significance] Feature x__large_standard_deviation__r_0.0 is constant\n",
      "[test_feature_significance] Feature x__symmetry_looking__r_0.7000000000000001 is constant\n",
      "[test_feature_significance] Feature y__mean_abs_change_quantiles__qh_0.2__ql_0.8 is constant\n",
      "[test_feature_significance] Feature y__symmetry_looking__r_0.55 is constant\n",
      "[test_feature_significance] Feature x__symmetry_looking__r_0.9 is constant\n",
      "[test_feature_significance] Feature y__large_number_of_peaks__n_3 is constant\n",
      "[test_feature_significance] Feature z__mean_abs_change_quantiles__qh_0.4__ql_0.6 is constant\n",
      "[test_feature_significance] Feature z__symmetry_looking__r_0.9500000000000001 is constant\n",
      "[test_feature_significance] Feature z__symmetry_looking__r_0.55 is constant\n",
      "[test_feature_significance] Feature z__symmetry_looking__r_0.15000000000000002 is constant\n",
      "[test_feature_significance] Feature y__symmetry_looking__r_0.7000000000000001 is constant\n",
      "[test_feature_significance] Feature z__symmetry_looking__r_0.2 is constant\n",
      "[test_feature_significance] Feature y__value_count__value_nan is constant\n",
      "[test_feature_significance] Feature y__symmetry_looking__r_0.65 is constant\n",
      "[test_feature_significance] Feature y__symmetry_looking__r_0.1 is constant\n"
     ]
    }
   ],
   "source": [
    "impute(X)\n",
    "features_filtered = select_features(X, y)"
   ]
  },
  {
   "cell_type": "code",
   "execution_count": 52,
   "metadata": {
    "collapsed": false
   },
   "outputs": [
    {
     "name": "stdout",
     "output_type": "stream",
     "text": [
      "Empty DataFrame\n",
      "Columns: []\n",
      "Index: [0, 1, 2, 3, 4, 5, 6, 7, 8, 9, 10, 11, 12, 13, 14, 15, 16, 17, 18, 19]\n"
     ]
    }
   ],
   "source": [
    "print(features_filtered)"
   ]
  },
  {
   "cell_type": "code",
   "execution_count": 55,
   "metadata": {
    "collapsed": false
   },
   "outputs": [
    {
     "name": "stdout",
     "output_type": "stream",
     "text": [
      "None\n"
     ]
    }
   ],
   "source": [
    "print(impute(X))"
   ]
  },
  {
   "cell_type": "code",
   "execution_count": 60,
   "metadata": {
    "collapsed": false
   },
   "outputs": [
    {
     "ename": "ValueError",
     "evalue": "could not convert string to float: 'x__longest_strike_below_mean'",
     "output_type": "error",
     "traceback": [
      "\u001b[0;31m---------------------------------------------------------------------------\u001b[0m",
      "\u001b[0;31mValueError\u001b[0m                                Traceback (most recent call last)",
      "\u001b[0;32m<ipython-input-60-803c1acdd1a6>\u001b[0m in \u001b[0;36m<module>\u001b[0;34m()\u001b[0m\n\u001b[1;32m      4\u001b[0m \u001b[0;34m\u001b[0m\u001b[0m\n\u001b[1;32m      5\u001b[0m \u001b[0;32mfor\u001b[0m \u001b[0mx\u001b[0m \u001b[0;32min\u001b[0m \u001b[0mX\u001b[0m\u001b[0;34m:\u001b[0m\u001b[0;34m\u001b[0m\u001b[0m\n\u001b[0;32m----> 6\u001b[0;31m     \u001b[0mplt\u001b[0m\u001b[0;34m.\u001b[0m\u001b[0mplot\u001b[0m\u001b[0;34m(\u001b[0m\u001b[0mx\u001b[0m\u001b[0;34m)\u001b[0m\u001b[0;34m\u001b[0m\u001b[0m\n\u001b[0m\u001b[1;32m      7\u001b[0m     \u001b[0mplt\u001b[0m\u001b[0;34m.\u001b[0m\u001b[0mshow\u001b[0m\u001b[0;34m(\u001b[0m\u001b[0;34m)\u001b[0m\u001b[0;34m\u001b[0m\u001b[0m\n",
      "\u001b[0;32m/Users/sofiatti/anaconda3/lib/python3.5/site-packages/matplotlib/pyplot.py\u001b[0m in \u001b[0;36mplot\u001b[0;34m(*args, **kwargs)\u001b[0m\n\u001b[1;32m   3159\u001b[0m         \u001b[0max\u001b[0m\u001b[0;34m.\u001b[0m\u001b[0mhold\u001b[0m\u001b[0;34m(\u001b[0m\u001b[0mhold\u001b[0m\u001b[0;34m)\u001b[0m\u001b[0;34m\u001b[0m\u001b[0m\n\u001b[1;32m   3160\u001b[0m     \u001b[0;32mtry\u001b[0m\u001b[0;34m:\u001b[0m\u001b[0;34m\u001b[0m\u001b[0m\n\u001b[0;32m-> 3161\u001b[0;31m         \u001b[0mret\u001b[0m \u001b[0;34m=\u001b[0m \u001b[0max\u001b[0m\u001b[0;34m.\u001b[0m\u001b[0mplot\u001b[0m\u001b[0;34m(\u001b[0m\u001b[0;34m*\u001b[0m\u001b[0margs\u001b[0m\u001b[0;34m,\u001b[0m \u001b[0;34m**\u001b[0m\u001b[0mkwargs\u001b[0m\u001b[0;34m)\u001b[0m\u001b[0;34m\u001b[0m\u001b[0m\n\u001b[0m\u001b[1;32m   3162\u001b[0m     \u001b[0;32mfinally\u001b[0m\u001b[0;34m:\u001b[0m\u001b[0;34m\u001b[0m\u001b[0m\n\u001b[1;32m   3163\u001b[0m         \u001b[0max\u001b[0m\u001b[0;34m.\u001b[0m\u001b[0mhold\u001b[0m\u001b[0;34m(\u001b[0m\u001b[0mwashold\u001b[0m\u001b[0;34m)\u001b[0m\u001b[0;34m\u001b[0m\u001b[0m\n",
      "\u001b[0;32m/Users/sofiatti/anaconda3/lib/python3.5/site-packages/matplotlib/__init__.py\u001b[0m in \u001b[0;36minner\u001b[0;34m(ax, *args, **kwargs)\u001b[0m\n\u001b[1;32m   1817\u001b[0m                     warnings.warn(msg % (label_namer, func.__name__),\n\u001b[1;32m   1818\u001b[0m                                   RuntimeWarning, stacklevel=2)\n\u001b[0;32m-> 1819\u001b[0;31m             \u001b[0;32mreturn\u001b[0m \u001b[0mfunc\u001b[0m\u001b[0;34m(\u001b[0m\u001b[0max\u001b[0m\u001b[0;34m,\u001b[0m \u001b[0;34m*\u001b[0m\u001b[0margs\u001b[0m\u001b[0;34m,\u001b[0m \u001b[0;34m**\u001b[0m\u001b[0mkwargs\u001b[0m\u001b[0;34m)\u001b[0m\u001b[0;34m\u001b[0m\u001b[0m\n\u001b[0m\u001b[1;32m   1820\u001b[0m         \u001b[0mpre_doc\u001b[0m \u001b[0;34m=\u001b[0m \u001b[0minner\u001b[0m\u001b[0;34m.\u001b[0m\u001b[0m__doc__\u001b[0m\u001b[0;34m\u001b[0m\u001b[0m\n\u001b[1;32m   1821\u001b[0m         \u001b[0;32mif\u001b[0m \u001b[0mpre_doc\u001b[0m \u001b[0;32mis\u001b[0m \u001b[0;32mNone\u001b[0m\u001b[0;34m:\u001b[0m\u001b[0;34m\u001b[0m\u001b[0m\n",
      "\u001b[0;32m/Users/sofiatti/anaconda3/lib/python3.5/site-packages/matplotlib/axes/_axes.py\u001b[0m in \u001b[0;36mplot\u001b[0;34m(self, *args, **kwargs)\u001b[0m\n\u001b[1;32m   1381\u001b[0m \u001b[0;34m\u001b[0m\u001b[0m\n\u001b[1;32m   1382\u001b[0m         \u001b[0;32mfor\u001b[0m \u001b[0mline\u001b[0m \u001b[0;32min\u001b[0m \u001b[0mself\u001b[0m\u001b[0;34m.\u001b[0m\u001b[0m_get_lines\u001b[0m\u001b[0;34m(\u001b[0m\u001b[0;34m*\u001b[0m\u001b[0margs\u001b[0m\u001b[0;34m,\u001b[0m \u001b[0;34m**\u001b[0m\u001b[0mkwargs\u001b[0m\u001b[0;34m)\u001b[0m\u001b[0;34m:\u001b[0m\u001b[0;34m\u001b[0m\u001b[0m\n\u001b[0;32m-> 1383\u001b[0;31m             \u001b[0mself\u001b[0m\u001b[0;34m.\u001b[0m\u001b[0madd_line\u001b[0m\u001b[0;34m(\u001b[0m\u001b[0mline\u001b[0m\u001b[0;34m)\u001b[0m\u001b[0;34m\u001b[0m\u001b[0m\n\u001b[0m\u001b[1;32m   1384\u001b[0m             \u001b[0mlines\u001b[0m\u001b[0;34m.\u001b[0m\u001b[0mappend\u001b[0m\u001b[0;34m(\u001b[0m\u001b[0mline\u001b[0m\u001b[0;34m)\u001b[0m\u001b[0;34m\u001b[0m\u001b[0m\n\u001b[1;32m   1385\u001b[0m \u001b[0;34m\u001b[0m\u001b[0m\n",
      "\u001b[0;32m/Users/sofiatti/anaconda3/lib/python3.5/site-packages/matplotlib/axes/_base.py\u001b[0m in \u001b[0;36madd_line\u001b[0;34m(self, line)\u001b[0m\n\u001b[1;32m   1701\u001b[0m             \u001b[0mline\u001b[0m\u001b[0;34m.\u001b[0m\u001b[0mset_clip_path\u001b[0m\u001b[0;34m(\u001b[0m\u001b[0mself\u001b[0m\u001b[0;34m.\u001b[0m\u001b[0mpatch\u001b[0m\u001b[0;34m)\u001b[0m\u001b[0;34m\u001b[0m\u001b[0m\n\u001b[1;32m   1702\u001b[0m \u001b[0;34m\u001b[0m\u001b[0m\n\u001b[0;32m-> 1703\u001b[0;31m         \u001b[0mself\u001b[0m\u001b[0;34m.\u001b[0m\u001b[0m_update_line_limits\u001b[0m\u001b[0;34m(\u001b[0m\u001b[0mline\u001b[0m\u001b[0;34m)\u001b[0m\u001b[0;34m\u001b[0m\u001b[0m\n\u001b[0m\u001b[1;32m   1704\u001b[0m         \u001b[0;32mif\u001b[0m \u001b[0;32mnot\u001b[0m \u001b[0mline\u001b[0m\u001b[0;34m.\u001b[0m\u001b[0mget_label\u001b[0m\u001b[0;34m(\u001b[0m\u001b[0;34m)\u001b[0m\u001b[0;34m:\u001b[0m\u001b[0;34m\u001b[0m\u001b[0m\n\u001b[1;32m   1705\u001b[0m             \u001b[0mline\u001b[0m\u001b[0;34m.\u001b[0m\u001b[0mset_label\u001b[0m\u001b[0;34m(\u001b[0m\u001b[0;34m'_line%d'\u001b[0m \u001b[0;34m%\u001b[0m \u001b[0mlen\u001b[0m\u001b[0;34m(\u001b[0m\u001b[0mself\u001b[0m\u001b[0;34m.\u001b[0m\u001b[0mlines\u001b[0m\u001b[0;34m)\u001b[0m\u001b[0;34m)\u001b[0m\u001b[0;34m\u001b[0m\u001b[0m\n",
      "\u001b[0;32m/Users/sofiatti/anaconda3/lib/python3.5/site-packages/matplotlib/axes/_base.py\u001b[0m in \u001b[0;36m_update_line_limits\u001b[0;34m(self, line)\u001b[0m\n\u001b[1;32m   1723\u001b[0m         \u001b[0mFigures\u001b[0m \u001b[0mout\u001b[0m \u001b[0mthe\u001b[0m \u001b[0mdata\u001b[0m \u001b[0mlimit\u001b[0m \u001b[0mof\u001b[0m \u001b[0mthe\u001b[0m \u001b[0mgiven\u001b[0m \u001b[0mline\u001b[0m\u001b[0;34m,\u001b[0m \u001b[0mupdating\u001b[0m \u001b[0mself\u001b[0m\u001b[0;34m.\u001b[0m\u001b[0mdataLim\u001b[0m\u001b[0;34m.\u001b[0m\u001b[0;34m\u001b[0m\u001b[0m\n\u001b[1;32m   1724\u001b[0m         \"\"\"\n\u001b[0;32m-> 1725\u001b[0;31m         \u001b[0mpath\u001b[0m \u001b[0;34m=\u001b[0m \u001b[0mline\u001b[0m\u001b[0;34m.\u001b[0m\u001b[0mget_path\u001b[0m\u001b[0;34m(\u001b[0m\u001b[0;34m)\u001b[0m\u001b[0;34m\u001b[0m\u001b[0m\n\u001b[0m\u001b[1;32m   1726\u001b[0m         \u001b[0;32mif\u001b[0m \u001b[0mpath\u001b[0m\u001b[0;34m.\u001b[0m\u001b[0mvertices\u001b[0m\u001b[0;34m.\u001b[0m\u001b[0msize\u001b[0m \u001b[0;34m==\u001b[0m \u001b[0;36m0\u001b[0m\u001b[0;34m:\u001b[0m\u001b[0;34m\u001b[0m\u001b[0m\n\u001b[1;32m   1727\u001b[0m             \u001b[0;32mreturn\u001b[0m\u001b[0;34m\u001b[0m\u001b[0m\n",
      "\u001b[0;32m/Users/sofiatti/anaconda3/lib/python3.5/site-packages/matplotlib/lines.py\u001b[0m in \u001b[0;36mget_path\u001b[0;34m(self)\u001b[0m\n\u001b[1;32m    936\u001b[0m         \"\"\"\n\u001b[1;32m    937\u001b[0m         \u001b[0;32mif\u001b[0m \u001b[0mself\u001b[0m\u001b[0;34m.\u001b[0m\u001b[0m_invalidy\u001b[0m \u001b[0;32mor\u001b[0m \u001b[0mself\u001b[0m\u001b[0;34m.\u001b[0m\u001b[0m_invalidx\u001b[0m\u001b[0;34m:\u001b[0m\u001b[0;34m\u001b[0m\u001b[0m\n\u001b[0;32m--> 938\u001b[0;31m             \u001b[0mself\u001b[0m\u001b[0;34m.\u001b[0m\u001b[0mrecache\u001b[0m\u001b[0;34m(\u001b[0m\u001b[0;34m)\u001b[0m\u001b[0;34m\u001b[0m\u001b[0m\n\u001b[0m\u001b[1;32m    939\u001b[0m         \u001b[0;32mreturn\u001b[0m \u001b[0mself\u001b[0m\u001b[0;34m.\u001b[0m\u001b[0m_path\u001b[0m\u001b[0;34m\u001b[0m\u001b[0m\n\u001b[1;32m    940\u001b[0m \u001b[0;34m\u001b[0m\u001b[0m\n",
      "\u001b[0;32m/Users/sofiatti/anaconda3/lib/python3.5/site-packages/matplotlib/lines.py\u001b[0m in \u001b[0;36mrecache\u001b[0;34m(self, always)\u001b[0m\n\u001b[1;32m    632\u001b[0m                 \u001b[0my\u001b[0m \u001b[0;34m=\u001b[0m \u001b[0mma\u001b[0m\u001b[0;34m.\u001b[0m\u001b[0masarray\u001b[0m\u001b[0;34m(\u001b[0m\u001b[0myconv\u001b[0m\u001b[0;34m,\u001b[0m \u001b[0mnp\u001b[0m\u001b[0;34m.\u001b[0m\u001b[0mfloat_\u001b[0m\u001b[0;34m)\u001b[0m\u001b[0;34m.\u001b[0m\u001b[0mfilled\u001b[0m\u001b[0;34m(\u001b[0m\u001b[0mnp\u001b[0m\u001b[0;34m.\u001b[0m\u001b[0mnan\u001b[0m\u001b[0;34m)\u001b[0m\u001b[0;34m\u001b[0m\u001b[0m\n\u001b[1;32m    633\u001b[0m             \u001b[0;32melse\u001b[0m\u001b[0;34m:\u001b[0m\u001b[0;34m\u001b[0m\u001b[0m\n\u001b[0;32m--> 634\u001b[0;31m                 \u001b[0my\u001b[0m \u001b[0;34m=\u001b[0m \u001b[0mnp\u001b[0m\u001b[0;34m.\u001b[0m\u001b[0masarray\u001b[0m\u001b[0;34m(\u001b[0m\u001b[0myconv\u001b[0m\u001b[0;34m,\u001b[0m \u001b[0mnp\u001b[0m\u001b[0;34m.\u001b[0m\u001b[0mfloat_\u001b[0m\u001b[0;34m)\u001b[0m\u001b[0;34m\u001b[0m\u001b[0m\n\u001b[0m\u001b[1;32m    635\u001b[0m             \u001b[0my\u001b[0m \u001b[0;34m=\u001b[0m \u001b[0my\u001b[0m\u001b[0;34m.\u001b[0m\u001b[0mravel\u001b[0m\u001b[0;34m(\u001b[0m\u001b[0;34m)\u001b[0m\u001b[0;34m\u001b[0m\u001b[0m\n\u001b[1;32m    636\u001b[0m         \u001b[0;32melse\u001b[0m\u001b[0;34m:\u001b[0m\u001b[0;34m\u001b[0m\u001b[0m\n",
      "\u001b[0;32m/Users/sofiatti/anaconda3/lib/python3.5/site-packages/numpy/core/numeric.py\u001b[0m in \u001b[0;36masarray\u001b[0;34m(a, dtype, order)\u001b[0m\n\u001b[1;32m    480\u001b[0m \u001b[0;34m\u001b[0m\u001b[0m\n\u001b[1;32m    481\u001b[0m     \"\"\"\n\u001b[0;32m--> 482\u001b[0;31m     \u001b[0;32mreturn\u001b[0m \u001b[0marray\u001b[0m\u001b[0;34m(\u001b[0m\u001b[0ma\u001b[0m\u001b[0;34m,\u001b[0m \u001b[0mdtype\u001b[0m\u001b[0;34m,\u001b[0m \u001b[0mcopy\u001b[0m\u001b[0;34m=\u001b[0m\u001b[0;32mFalse\u001b[0m\u001b[0;34m,\u001b[0m \u001b[0morder\u001b[0m\u001b[0;34m=\u001b[0m\u001b[0morder\u001b[0m\u001b[0;34m)\u001b[0m\u001b[0;34m\u001b[0m\u001b[0m\n\u001b[0m\u001b[1;32m    483\u001b[0m \u001b[0;34m\u001b[0m\u001b[0m\n\u001b[1;32m    484\u001b[0m \u001b[0;32mdef\u001b[0m \u001b[0masanyarray\u001b[0m\u001b[0;34m(\u001b[0m\u001b[0ma\u001b[0m\u001b[0;34m,\u001b[0m \u001b[0mdtype\u001b[0m\u001b[0;34m=\u001b[0m\u001b[0;32mNone\u001b[0m\u001b[0;34m,\u001b[0m \u001b[0morder\u001b[0m\u001b[0;34m=\u001b[0m\u001b[0;32mNone\u001b[0m\u001b[0;34m)\u001b[0m\u001b[0;34m:\u001b[0m\u001b[0;34m\u001b[0m\u001b[0m\n",
      "\u001b[0;31mValueError\u001b[0m: could not convert string to float: 'x__longest_strike_below_mean'"
     ]
    },
    {
     "data": {
      "image/png": "[encoded data removed]",
      "text/plain": [
       "<matplotlib.figure.Figure at 0x1161fc198>"
      ]
     },
     "metadata": {},
     "output_type": "display_data"
    }
   ],
   "source": [
    "import seaborn\n",
    "import matplotlib.pyplot as plt\n",
    "%matplotlib inline\n",
    "\n",
    "for x in X:\n",
    "    plt.plot(x)\n",
    "    plt.show()"
   ]
  },
  {
   "cell_type": "code",
   "execution_count": null,
   "metadata": {
    "collapsed": false
   },
   "outputs": [
    {
     "name": "stderr",
     "output_type": "stream",
     "text": [
      "/Users/sofiatti/anaconda3/lib/python3.5/site-packages/pandas/computation/expressions.py:181: UserWarning: evaluating in Python space because the '*' operator is not supported by numexpr for the bool dtype, use '&' instead\n",
      "  unsupported[op_str]))\n",
      "/Users/sofiatti/anaconda3/lib/python3.5/site-packages/pandas/computation/expressions.py:181: UserWarning: evaluating in Python space because the '*' operator is not supported by numexpr for the bool dtype, use '&' instead\n",
      "  unsupported[op_str]))\n"
     ]
    }
   ],
   "source": [
    "from tsfresh import extract_relevant_features\n",
    "\n",
    "features_filtered_direct = extract_relevant_features(df_training, y, column_id='id', column_sort='t')"
   ]
  },
  {
   "cell_type": "code",
   "execution_count": null,
   "metadata": {
    "collapsed": true
   },
   "outputs": [],
   "source": []
  }
 ],
 "metadata": {
  "anaconda-cloud": {},
  "kernelspec": {
   "display_name": "Python [default]",
   "language": "python",
   "name": "python3"
  },
  "language_info": {
   "codemirror_mode": {
    "name": "ipython",
    "version": 3
   },
   "file_extension": ".py",
   "mimetype": "text/x-python",
   "name": "python",
   "nbconvert_exporter": "python",
   "pygments_lexer": "ipython3",
   "version": "3.5.2"
  }
 },
 "nbformat": 4,
 "nbformat_minor": 1
}
